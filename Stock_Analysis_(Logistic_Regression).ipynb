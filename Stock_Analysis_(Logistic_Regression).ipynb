{
  "nbformat": 4,
  "nbformat_minor": 0,
  "metadata": {
    "colab": {
      "provenance": []
    },
    "kernelspec": {
      "name": "python3",
      "display_name": "Python 3"
    },
    "language_info": {
      "name": "python"
    }
  },
  "cells": [
    {
      "cell_type": "code",
      "execution_count": 10,
      "metadata": {
        "id": "IVA0F8au_atj"
      },
      "outputs": [],
      "source": [
        "#import libraries\n",
        "import pandas as pd\n",
        "import numpy as np\n",
        "import math\n",
        "\n",
        "import sklearn\n",
        "from sklearn import preprocessing\n",
        "\n",
        "from sklearn.model_selection import cross_validate\n",
        "from sklearn.model_selection import train_test_split\n",
        "\n",
        "from sklearn.linear_model import LogisticRegression"
      ]
    },
    {
      "cell_type": "code",
      "source": [
        "# data load\n",
        "data = pd.read_csv('/content/ISCTR.IS (1).csv',parse_dates = True, index_col = 0)\n",
        "\n",
        "data = data.dropna()\n",
        "\n",
        "data['High_Low_per'] = (data['High'] - data['Close']) / data['Close']*100\n",
        "data['Per_change'] = (data['Open'] - data['Open']) / data['Close']*100\n",
        "data = data[['Adj Close','High_Low_per','Per_change','Volume']]\n",
        "label_col = 'Adj Close'\n",
        "\n",
        "ceil = int(math.ceil(0.002*len(data)))\n",
        "data['label'] = data[label_col].shift(-ceil)\n",
        "\n",
        "data.dropna(inplace = True)\n",
        "\n",
        "# create label\n",
        "data['direction'] = np.where(data['Adj Close'].shift(-1) > data['Adj Close'], 1, 0)\n",
        "\n",
        "X = np.array(data.drop(['direction'], 1))\n",
        "X = preprocessing.scale(X)\n",
        "\n",
        "X = X[:-5] # drop last 5 rows\n",
        "y = np.array(data['direction'])\n",
        "y = y[:-5] # drop last 5 rows\n",
        "\n",
        "# split the data into train and test sets\n",
        "X_train, X_test, y_train, y_test = train_test_split(X, y, test_size=0.2)"
      ],
      "metadata": {
        "id": "YkNO1Ve6_25W",
        "colab": {
          "base_uri": "https://localhost:8080/"
        },
        "outputId": "81659b73-1d41-40db-d3aa-692a1e35242f"
      },
      "execution_count": 6,
      "outputs": [
        {
          "output_type": "stream",
          "name": "stderr",
          "text": [
            "<ipython-input-6-5ec0811974f8>:16: FutureWarning: In a future version of pandas all arguments of DataFrame.drop except for the argument 'labels' will be keyword-only.\n",
            "  X = np.array(data.drop(['direction'], 1))\n"
          ]
        }
      ]
    },
    {
      "cell_type": "code",
      "source": [
        "#Logistic Regression\n",
        "\n",
        "logreg = LogisticRegression()\n",
        "\n",
        "logreg.fit(X_train, y_train)\n",
        "\n",
        "sample_data = [[9.520000, 10.470000, 11.420000, 11.250000]]\n",
        "prediction = logreg.predict(X_test)\n",
        "\n",
        "print(prediction)"
      ],
      "metadata": {
        "id": "95sm-rm_z9Zz",
        "colab": {
          "base_uri": "https://localhost:8080/"
        },
        "outputId": "f7571330-aeee-42b2-d9ba-db693b5db02c"
      },
      "execution_count": 8,
      "outputs": [
        {
          "output_type": "stream",
          "name": "stdout",
          "text": [
            "[0 1 0 0 0 1 0 0 0 0 0 0 0 0 0 1 0 0 0 1 0 0 0 0 0 0 0 0 0 0 1 0 1 0 0 0 1\n",
            " 0 0 0 0 0 0 0 0 0 1 0 0 0 1 0 0 1 0 1 0 1 0 0 0 1 0 0 1 0 1 0 0 0 0 0 0 0\n",
            " 0 0 0 1 0 0 0 0 0 0 0 1 0 0 0 0 1 1 0 1 1 0 0 0 0 0 0 0 0 0 0 1 0 1 0 0 0\n",
            " 0 0 0 0 0 0 0 0 1 0 0 1 0 0 0 0 0 1 0 0 0 0 1 1 0 0 1 0 0 1 0 0 1 0 1 1 0\n",
            " 0 0 0 0 0 0 0 0 0 0 0 1 0 0 0 0 1 0 0 0 1 1 0 1 0 0 0 0 0 0 0 0 0 0 0 0 0\n",
            " 0 1 0 1 0 0 0 0 0 0 0 0 1 0 1 0 0 0 0 0 1 0 0 0 0 0 1 0 0 0 0 0 0 0 0 1 0\n",
            " 0 0 0 0 0 1 0 0 0 0 1 0 0 0 0 1 0 0 1 0 0 1 0 1 1 0 0 0 1 1 1 0 1 0 0 0 0\n",
            " 0 1 1 0 0 0 0 0 1 0 0 0 0 0 0 0 0 0 0 0 0 0 0 1 1 0 0 0 0 1 0 0 0 0 0 1 0\n",
            " 1 0 0 0 0 0 1 0 0 0 0 0 0 0 1 0 0 0 0 0 0 0 0 0 0 0 0 0 0 1 1 0 0 0 0 0 0\n",
            " 0 0 1 0 0 1 0 1 0 0 0 1 0 0 0 0 0 0 0 0 0 0 0 1 0 0 0 0 0 0 0 0 0 0 1 0 0\n",
            " 0 0 1 0 0 0 0 0 1 0 1 1 0 1 0 0 1 0 0 0 0 0 0 0 0 0 0 0 0 0 0 0 0 1 0 1 0\n",
            " 0 0 1]\n"
          ]
        }
      ]
    },
    {
      "cell_type": "code",
      "source": [
        "#logreg accuracy\n",
        "\n",
        "logreg_accuracy = logreg.score(X_test, y_test)\n",
        "print(logreg_accuracy)"
      ],
      "metadata": {
        "colab": {
          "base_uri": "https://localhost:8080/"
        },
        "id": "iMX_aBD-5ZXA",
        "outputId": "be697d94-04c4-41b6-b527-864f0f1f3799"
      },
      "execution_count": 9,
      "outputs": [
        {
          "output_type": "stream",
          "name": "stdout",
          "text": [
            "0.5975609756097561\n"
          ]
        }
      ]
    }
  ]
}