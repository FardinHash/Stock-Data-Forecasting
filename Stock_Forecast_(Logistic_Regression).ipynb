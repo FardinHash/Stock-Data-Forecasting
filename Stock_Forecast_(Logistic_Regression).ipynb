{
  "nbformat": 4,
  "nbformat_minor": 0,
  "metadata": {
    "colab": {
      "provenance": []
    },
    "kernelspec": {
      "name": "python3",
      "display_name": "Python 3"
    },
    "language_info": {
      "name": "python"
    }
  },
  "cells": [
    {
      "cell_type": "code",
      "execution_count": 17,
      "metadata": {
        "id": "IVA0F8au_atj"
      },
      "outputs": [],
      "source": [
        "#import libraries\n",
        "import pandas as pd\n",
        "import numpy as np\n",
        "import math\n",
        "\n",
        "import sklearn\n",
        "from sklearn import preprocessing\n",
        "\n",
        "from sklearn.model_selection import cross_validate\n",
        "from sklearn.model_selection import train_test_split\n",
        "\n",
        "from sklearn.linear_model import LogisticRegression"
      ]
    },
    {
      "cell_type": "code",
      "source": [
        "# Data load\n",
        "data = pd.read_csv('/content/ISCTR.IS (1).csv',parse_dates = True, index_col = 0)\n",
        "\n",
        "data = data.dropna()\n",
        "\n",
        "data['High_Low_per'] = (data['High'] - data['Close']) / data['Close']*100\n",
        "data['Per_change'] = (data['Open'] - data['Open']) / data['Close']*100\n",
        "data = data[['Adj Close','High_Low_per','Per_change','Volume']]\n",
        "label_col = 'Adj Close'\n",
        "\n",
        "ceil_data = int(math.ceil(0.002*len(data)))\n",
        "data['label'] = data[label_col].shift(-ceil_data)\n",
        "\n",
        "# Create binary classification label\n",
        "data['direction'] = np.where(data['Adj Close'].shift(-1) > data['Adj Close'], 1, 0)\n",
        "\n",
        "# Drop rows with missing values\n",
        "data.dropna(inplace=True)\n",
        "\n",
        "X = data[['High_Low_per', 'Per_change', 'Volume']].values\n",
        "X = preprocessing.scale(X)\n",
        "forecast = X[-ceil_data-7:-ceil_data]\n",
        "y = data['direction'].values\n",
        "\n",
        "# split the data into train and test sets\n",
        "X_train, X_test, y_train, y_test = train_test_split(X, y, test_size=0.2)"
      ],
      "metadata": {
        "id": "YkNO1Ve6_25W"
      },
      "execution_count": 18,
      "outputs": []
    },
    {
      "cell_type": "code",
      "source": [
        "# Train the model on the training data\n",
        "logreg = LogisticRegression()\n",
        "logreg.fit(X_train, y_train)\n",
        "\n",
        "# Make predictions on the test data\n",
        "logreg_prediction = logreg.predict(X_test)\n",
        "\n",
        "# Make predictions for the next 7 days\n",
        "logreg_next7days = logreg.predict(forecast)\n",
        "\n",
        "# Print the predictions\n",
        "print('Predictions on Test Data:', logreg_prediction)\n",
        "print('Predictions for the next 7 days:', logreg_next7days)"
      ],
      "metadata": {
        "id": "95sm-rm_z9Zz",
        "colab": {
          "base_uri": "https://localhost:8080/"
        },
        "outputId": "fdba66a8-d7d0-4e10-dda6-673a32e689cc"
      },
      "execution_count": 21,
      "outputs": [
        {
          "output_type": "stream",
          "name": "stdout",
          "text": [
            "Predictions on Test Data: [0 0 0 0 0 0 0 0 0 0 0 0 0 0 0 0 0 0 0 0 0 0 0 0 0 1 0 0 0 0 0 0 0 1 0 0 0\n",
            " 0 0 0 0 0 0 0 0 0 0 0 0 0 0 0 0 0 1 0 0 0 0 0 0 0 0 0 0 0 0 0 0 0 0 1 0 0\n",
            " 0 0 0 0 0 0 0 1 0 0 0 0 0 0 0 0 0 0 0 0 0 0 0 0 0 0 0 0 0 0 0 0 0 0 0 0 0\n",
            " 0 0 0 0 0 0 0 0 0 1 0 1 0 0 0 0 0 0 0 0 0 0 0 0 0 0 0 0 0 0 0 0 0 0 0 0 0\n",
            " 0 0 0 0 0 1 0 0 1 0 0 0 0 0 0 0 0 0 0 0 0 0 0 0 0 0 0 0 0 0 0 0 0 0 0 0 1\n",
            " 0 1 0 0 0 0 0 0 0 0 0 0 0 0 0 0 0 0 0 0 0 0 0 1 0 0 0 0 0 0 0 0 0 0 0 0 1\n",
            " 0 0 0 0 0 0 0 0 0 0 0 0 1 0 0 0 0 1 0 0 0 0 0 0 0 0 0 0 0 0 0 0 0 0 1 0 0\n",
            " 0 0 0 0 1 0 0 0 0 0 0 0 1 0 0 0 0 0 0 0 0 0 0 0 0 0 0 0 0 0 0 0 1 0 0 0 0\n",
            " 0 0 0 0 0 0 0 0 0 0 0 0 0 1 0 0 0 0 0 0 0 0 0 0 0 0 0 0 0 0 0 0 0 0 0 0 0\n",
            " 0 0 0 0 0 0 0 0 0 0 0 0 0 0 0 0 0 0 0 0 0 0 0 0 1 1 0 0 0 0 0 0 0 0 1 0 1\n",
            " 0 0 0 0 0 0 0 0 0 0 0 0 0 1 0 0 0 0 1 0 0 0 0 0 0 0 0 0 0 0 0 0 0 0 0 0 0\n",
            " 0 0 0 0]\n",
            "Predictions for the next 7 days: [0 0 0 0 0 0 1]\n"
          ]
        }
      ]
    }
  ]
}